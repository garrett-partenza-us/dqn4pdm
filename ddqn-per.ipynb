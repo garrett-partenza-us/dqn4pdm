{
 "cells": [
  {
   "cell_type": "code",
   "execution_count": 1,
   "id": "b2213e38-ec60-4ece-919b-6d85621a88c8",
   "metadata": {},
   "outputs": [
    {
     "name": "stderr",
     "output_type": "stream",
     "text": [
      "/home/ec2-user/.local/lib/python3.7/site-packages/tqdm/auto.py:22: TqdmWarning: IProgress not found. Please update jupyter and ipywidgets. See https://ipywidgets.readthedocs.io/en/stable/user_install.html\n",
      "  from .autonotebook import tqdm as notebook_tqdm\n"
     ]
    }
   ],
   "source": [
    "import torch\n",
    "import torch.nn as nn\n",
    "import torch.nn.functional as F\n",
    "from torch.autograd import Variable\n",
    "import pandas as pd\n",
    "import numpy as np\n",
    "import random\n",
    "import copy\n",
    "import collections\n",
    "import typing\n",
    "from tqdm import tqdm\n",
    "from collections import deque"
   ]
  },
  {
   "cell_type": "code",
   "execution_count": 2,
   "id": "65f44d1c-ab6e-4208-9fbe-0ef59bdfa83c",
   "metadata": {},
   "outputs": [
    {
     "data": {
      "text/plain": [
       "False"
      ]
     },
     "execution_count": 2,
     "metadata": {},
     "output_type": "execute_result"
    }
   ],
   "source": [
    "torch.cuda.is_available()"
   ]
  },
  {
   "cell_type": "code",
   "execution_count": 3,
   "id": "80887762-bb54-44c6-9269-a012d740fca0",
   "metadata": {},
   "outputs": [],
   "source": [
    "#environment class\n",
    "class Environment():\n",
    "    \n",
    "    #initialize dataset, a random trajectory, and current cycle\n",
    "    def __init__(self):\n",
    "        self.dataset = pd.read_csv('train.csv')\n",
    "        self.episode = self.get_trajectory(np.random.randint(low=1, high=79, size=1))\n",
    "        self.cycle = 0\n",
    "        \n",
    "    #get random trajectory\n",
    "    def get_trajectory(self, engine_id):\n",
    "        return self.dataset[self.dataset.engine_id==engine_id.item()].health_indicator.to_numpy()\n",
    "    \n",
    "    #reset environment    \n",
    "    def reset(self):\n",
    "        self.cycle = 0\n",
    "        self.episode = self.get_trajectory(np.random.randint(low=0, high=79, size=1))\n",
    "        \n",
    "    #return current state\n",
    "    def get_state(self):\n",
    "        return torch.tensor([self.cycle, self.episode[self.cycle]], requires_grad=False)\n",
    "    \n",
    "    #take action\n",
    "    def take_action(self, action):\n",
    "        if action == 0:\n",
    "            #failure occurs\n",
    "            if self.cycle+1 == self.episode.size:\n",
    "                res = (None, -1, True)\n",
    "            #continued operation, return 1 and continue episode\n",
    "            else:\n",
    "                res = (self.episode[self.cycle+1], self.episode[self.cycle], False)\n",
    "            #move to next state\n",
    "            self.cycle+=1\n",
    "        elif action == 1:\n",
    "            res = (None, -self.episode[self.cycle], True)\n",
    "        return res"
   ]
  },
  {
   "cell_type": "code",
   "execution_count": 4,
   "id": "e44f1f6e-4c01-4433-9f03-be2e97c64374",
   "metadata": {},
   "outputs": [],
   "source": [
    "class Transition():\n",
    "    \n",
    "    def __init__(self, state, action, state_new, reward, term):\n",
    "        self.state = state\n",
    "        self.action = action\n",
    "        self.state_new = state_new\n",
    "        self.reward = reward\n",
    "        self.term = term\n",
    "        \n",
    "class PrioritizedReplayMemory:\n",
    "    \"\"\"Fixed-size buffer to store priority, Experience tuples.\"\"\"\n",
    "\n",
    "    def __init__(self,\n",
    "                 batch_size: int,\n",
    "                 buffer_size: int,\n",
    "                 alpha: float = 0.0,\n",
    "                 random_state: np.random.RandomState = None) -> None:\n",
    "        \"\"\"\n",
    "        Initialize an ExperienceReplayBuffer object.\n",
    "\n",
    "        Parameters:\n",
    "        -----------\n",
    "        buffer_size (int): maximum size of buffer\n",
    "        batch_size (int): size of each training batch\n",
    "        alpha (float): Strength of prioritized sampling. Default to 0.0 (i.e., uniform sampling).\n",
    "        random_state (np.random.RandomState): random number generator.\n",
    "        \n",
    "        \"\"\"\n",
    "        self._batch_size = batch_size\n",
    "        self._buffer_size = buffer_size\n",
    "        self._buffer_length = 0 # current number of prioritized experience tuples in buffer\n",
    "        self._buffer = np.empty(self._buffer_size, dtype=[(\"priority\", np.float32), (\"transition\", Transition)])\n",
    "        self._alpha = alpha\n",
    "        self._random_state = np.random.RandomState() if random_state is None else random_state\n",
    "        \n",
    "    def __len__(self) -> int:\n",
    "        \"\"\"Current number of prioritized experience tuple stored in buffer.\"\"\"\n",
    "        return self._buffer_length\n",
    "\n",
    "    @property\n",
    "    def alpha(self):\n",
    "        \"\"\"Strength of prioritized sampling.\"\"\"\n",
    "        return self._alpha\n",
    "\n",
    "    @property\n",
    "    def batch_size(self) -> int:\n",
    "        \"\"\"Number of experience samples per training batch.\"\"\"\n",
    "        return self._batch_size\n",
    "    \n",
    "    @property\n",
    "    def buffer_size(self) -> int:\n",
    "        \"\"\"Maximum number of prioritized experience tuples stored in buffer.\"\"\"\n",
    "        return self._buffer_size\n",
    "\n",
    "    def add(self, transition: Transition) -> None:\n",
    "        \"\"\"Add a new experience to memory.\"\"\"\n",
    "        priority = 1.0 if self.is_empty() else self._buffer[\"priority\"].max()\n",
    "        if self.is_full():\n",
    "            if priority > self._buffer[\"priority\"].min():\n",
    "                idx = self._buffer[\"priority\"].argmin()\n",
    "                self._buffer[idx] = (priority, transition)\n",
    "            else:\n",
    "                pass # low priority experiences should not be included in buffer\n",
    "        else:\n",
    "            self._buffer[self._buffer_length] = (priority, transition)\n",
    "            self._buffer_length += 1\n",
    "\n",
    "    def is_empty(self) -> bool:\n",
    "        \"\"\"True if the buffer is empty; False otherwise.\"\"\"\n",
    "        return self._buffer_length == 0\n",
    "    \n",
    "    def is_full(self) -> bool:\n",
    "        \"\"\"True if the buffer is full; False otherwise.\"\"\"\n",
    "        return self._buffer_length == self._buffer_size\n",
    "    \n",
    "    def sample(self, beta: float) -> typing.Tuple[np.array, np.array, np.array]:\n",
    "        \"\"\"Sample a batch of experiences from memory.\"\"\"\n",
    "        # use sampling scheme to determine which experiences to use for learning\n",
    "        ps = self._buffer[:self._buffer_length][\"priority\"]\n",
    "        sampling_probs = ps**self._alpha / np.sum(ps**self._alpha)\n",
    "        idxs = self._random_state.choice(np.arange(ps.size),\n",
    "                                         size=self._batch_size,\n",
    "                                         replace=True,\n",
    "                                         p=sampling_probs)\n",
    "        \n",
    "        # select the experiences and compute sampling weights\n",
    "        transitions = self._buffer[\"transition\"][idxs]        \n",
    "        weights = (self._buffer_length * sampling_probs[idxs])**-beta\n",
    "        normalized_weights = weights / weights.max()\n",
    "        \n",
    "        return idxs, transitions, normalized_weights\n",
    "\n",
    "    def update_priorities(self, idxs: np.array, priorities: np.array) -> None:\n",
    "        \"\"\"Update the priorities associated with particular experiences.\"\"\"\n",
    "        self._buffer[\"priority\"][idxs] = priorities"
   ]
  },
  {
   "cell_type": "code",
   "execution_count": 5,
   "id": "09df1af8-1a6b-40d3-a71d-8d71a6693f54",
   "metadata": {},
   "outputs": [],
   "source": [
    "#dqn model clas \n",
    "class DQN(nn.Module):\n",
    "    def __init__(self):\n",
    "        super(DQN, self).__init__()\n",
    "        self.lin1 = nn.Linear(1,5)\n",
    "        self.lin2 = nn.Linear(5,2)\n",
    "\n",
    "    def forward(self, x):\n",
    "        x = self.lin1(x)\n",
    "        x = F.relu(x)\n",
    "        x = self.lin2(x)\n",
    "        return x"
   ]
  },
  {
   "cell_type": "code",
   "execution_count": 6,
   "id": "a134ff20-16bc-42f3-a51f-03009d97257a",
   "metadata": {},
   "outputs": [],
   "source": [
    "def get_action(net, state, epsilon):\n",
    "    with torch.no_grad():\n",
    "        greedy = np.random.choice([True, False], p=[1-epsilon, epsilon])\n",
    "        if greedy:\n",
    "            state = torch.tensor([state], dtype=torch.float32)\n",
    "            q_values = net(state)\n",
    "            action = torch.argmax(q_values, dim=0)\n",
    "        else:\n",
    "            action = random.choice([0,1])\n",
    "        return action"
   ]
  },
  {
   "cell_type": "code",
   "execution_count": 7,
   "id": "0a9c34e8-82c4-47a7-bf1b-55155650df1a",
   "metadata": {},
   "outputs": [],
   "source": [
    "class Agent():\n",
    "    \n",
    "    def __init__(self):\n",
    "        \n",
    "        #hyperparameters\n",
    "        self.exp_replay_size = 100000\n",
    "        self.gamma = 0.99\n",
    "        self.epsilon = 0.2\n",
    "        self.target_update_steps = 10000\n",
    "        self.num_episodes = 5000\n",
    "        self.batch_size = 64\n",
    "        self.train_step_count = 4\n",
    "        self.steps = 0\n",
    "        self.lr = 0.001\n",
    "        self.eps_decay = 5e-7\n",
    "        self.loss_func = nn.HuberLoss()\n",
    "        self.alpha = 0.2\n",
    "        self.episode_count = 0\n",
    "        \n",
    "        #networks\n",
    "        self.QNet = DQN()\n",
    "        self.TNet = DQN()\n",
    "        self.optimizer = torch.optim.Adam(self.QNet.parameters(), lr=self.lr)\n",
    "        \n",
    "        #replay buffer\n",
    "        self.ER = PrioritizedReplayMemory(\n",
    "            batch_size = self.batch_size,\n",
    "            buffer_size = self.exp_replay_size,\n",
    "            alpha = self.alpha\n",
    "        )"
   ]
  },
  {
   "cell_type": "code",
   "execution_count": 8,
   "id": "c0596b85-4d36-4a9d-a868-9c3c3a03f6e8",
   "metadata": {},
   "outputs": [],
   "source": [
    "def optimize(agent):\n",
    "        \n",
    "    idxs, sample_transitions, sampling_weights = agent.ER.sample(beta=1-np.exp(-agent.lr*agent.episode_count))\n",
    "            \n",
    "    #get batch information\n",
    "    state_batch = [transition.state for transition in sample_transitions]\n",
    "    action_batch = [transition.state for transition in sample_transitions]\n",
    "    reward_batch = [transition.reward for transition in sample_transitions]\n",
    "    state_new = [transition.state_new for transition in sample_transitions]\n",
    "    term_batch = [transition.term for transition in sample_transitions]\n",
    "\n",
    "    state_tensor = torch.tensor(state_batch, dtype=torch.float32, requires_grad=True)\n",
    "    state_tensor = state_tensor.reshape(agent.batch_size, -1)\n",
    "    \n",
    "    policy_preds = agent.QNet(state_tensor)\n",
    "    policy_values = torch.stack([qvalues[idx] for qvalues, idx in zip(policy_preds, map(int, action_batch))])\n",
    "    \n",
    "    state_new_tensor = torch.tensor(state_batch, dtype=torch.float32, requires_grad=True)\n",
    "    state_new_tensor = torch.nan_to_num(state_new_tensor, nan=0.0)\n",
    "    state_new_tensor = state_new_tensor.reshape(agent.batch_size, -1)\n",
    "    target_values = agent.TNet(state_new_tensor)\n",
    "    target_values = torch.max(target_values, dim=1).values\n",
    "    \n",
    "    for idx, is_term in enumerate(term_batch):\n",
    "        target_values[idx] = 0.0 if is_term else target_values[idx]\n",
    "        \n",
    "    target_values = agent.gamma * target_values + torch.tensor(reward_batch, dtype=torch.float32, requires_grad=True)\n",
    "    \n",
    "    deltas = torch.subtract(policy_values, target_values)\n",
    "    \n",
    "    priorities = (deltas.abs()\n",
    "                            .cpu()\n",
    "                            .detach()\n",
    "                            .numpy()\n",
    "                            .flatten())\n",
    "    \n",
    "    agent.ER.update_priorities(idxs, priorities + 1e-5)\n",
    "    \n",
    "    _sampling_weights = (torch.Tensor(sampling_weights).view((-1, 1)))\n",
    "    \n",
    "    loss = torch.mean((deltas * _sampling_weights)**2)\n",
    "    \n",
    "    return loss"
   ]
  },
  {
   "cell_type": "code",
   "execution_count": 9,
   "id": "5a949dbd-e073-4cfd-ac74-8d9a5c995d51",
   "metadata": {},
   "outputs": [
    {
     "name": "stderr",
     "output_type": "stream",
     "text": [
      " 15%|██████████▋                                                             | 738/5000 [01:05<06:43, 10.55it/s]"
     ]
    },
    {
     "name": "stdout",
     "output_type": "stream",
     "text": [
      "updating target network...\n"
     ]
    },
    {
     "name": "stderr",
     "output_type": "stream",
     "text": [
      " 17%|████████████▍                                                           | 868/5000 [01:35<31:30,  2.19it/s]"
     ]
    },
    {
     "name": "stdout",
     "output_type": "stream",
     "text": [
      "updating target network...\n"
     ]
    },
    {
     "name": "stderr",
     "output_type": "stream",
     "text": [
      " 18%|█████████████▏                                                          | 918/5000 [02:03<41:53,  1.62it/s]"
     ]
    },
    {
     "name": "stdout",
     "output_type": "stream",
     "text": [
      "updating target network...\n"
     ]
    },
    {
     "name": "stderr",
     "output_type": "stream",
     "text": [
      " 19%|█████████████▉                                                          | 968/5000 [02:34<40:39,  1.65it/s]"
     ]
    },
    {
     "name": "stdout",
     "output_type": "stream",
     "text": [
      "updating target network...\n"
     ]
    },
    {
     "name": "stderr",
     "output_type": "stream",
     "text": [
      " 20%|██████████████▍                                                        | 1018/5000 [03:09<45:33,  1.46it/s]"
     ]
    },
    {
     "name": "stdout",
     "output_type": "stream",
     "text": [
      "updating target network...\n"
     ]
    },
    {
     "name": "stderr",
     "output_type": "stream",
     "text": [
      " 21%|███████████████                                                        | 1065/5000 [03:46<51:19,  1.28it/s]"
     ]
    },
    {
     "name": "stdout",
     "output_type": "stream",
     "text": [
      "updating target network...\n"
     ]
    },
    {
     "name": "stderr",
     "output_type": "stream",
     "text": [
      " 22%|███████████████▊                                                       | 1117/5000 [04:27<50:43,  1.28it/s]"
     ]
    },
    {
     "name": "stdout",
     "output_type": "stream",
     "text": [
      "updating target network...\n"
     ]
    },
    {
     "name": "stderr",
     "output_type": "stream",
     "text": [
      " 23%|████████████████                                                     | 1165/5000 [05:11<1:16:19,  1.19s/it]"
     ]
    },
    {
     "name": "stdout",
     "output_type": "stream",
     "text": [
      "updating target network...\n"
     ]
    },
    {
     "name": "stderr",
     "output_type": "stream",
     "text": [
      " 24%|████████████████▋                                                    | 1213/5000 [05:59<1:05:00,  1.03s/it]"
     ]
    },
    {
     "name": "stdout",
     "output_type": "stream",
     "text": [
      "updating target network...\n"
     ]
    },
    {
     "name": "stderr",
     "output_type": "stream",
     "text": [
      " 25%|█████████████████▍                                                   | 1264/5000 [06:50<1:06:14,  1.06s/it]"
     ]
    },
    {
     "name": "stdout",
     "output_type": "stream",
     "text": [
      "updating target network...\n"
     ]
    },
    {
     "name": "stderr",
     "output_type": "stream",
     "text": [
      " 26%|██████████████████                                                   | 1313/5000 [07:44<1:11:31,  1.16s/it]"
     ]
    },
    {
     "name": "stdout",
     "output_type": "stream",
     "text": [
      "updating target network...\n"
     ]
    },
    {
     "name": "stderr",
     "output_type": "stream",
     "text": [
      " 27%|██████████████████▊                                                  | 1362/5000 [08:39<1:05:48,  1.09s/it]"
     ]
    },
    {
     "name": "stdout",
     "output_type": "stream",
     "text": [
      "updating target network...\n"
     ]
    },
    {
     "name": "stderr",
     "output_type": "stream",
     "text": [
      " 28%|████████████████████                                                   | 1414/5000 [09:34<58:51,  1.02it/s]"
     ]
    },
    {
     "name": "stdout",
     "output_type": "stream",
     "text": [
      "updating target network...\n"
     ]
    },
    {
     "name": "stderr",
     "output_type": "stream",
     "text": [
      " 29%|████████████████████▏                                                | 1464/5000 [10:30<1:06:24,  1.13s/it]"
     ]
    },
    {
     "name": "stdout",
     "output_type": "stream",
     "text": [
      "updating target network...\n"
     ]
    },
    {
     "name": "stderr",
     "output_type": "stream",
     "text": [
      " 30%|████████████████████▊                                                | 1511/5000 [11:24<1:02:25,  1.07s/it]"
     ]
    },
    {
     "name": "stdout",
     "output_type": "stream",
     "text": [
      "updating target network...\n"
     ]
    },
    {
     "name": "stderr",
     "output_type": "stream",
     "text": [
      " 31%|█████████████████████▌                                               | 1560/5000 [12:19<1:02:25,  1.09s/it]"
     ]
    },
    {
     "name": "stdout",
     "output_type": "stream",
     "text": [
      "updating target network...\n"
     ]
    },
    {
     "name": "stderr",
     "output_type": "stream",
     "text": [
      " 32%|██████████████████████▏                                              | 1609/5000 [13:14<1:01:30,  1.09s/it]"
     ]
    },
    {
     "name": "stdout",
     "output_type": "stream",
     "text": [
      "updating target network...\n"
     ]
    },
    {
     "name": "stderr",
     "output_type": "stream",
     "text": [
      " 33%|██████████████████████▊                                              | 1657/5000 [14:08<1:11:38,  1.29s/it]"
     ]
    },
    {
     "name": "stdout",
     "output_type": "stream",
     "text": [
      "updating target network...\n"
     ]
    },
    {
     "name": "stderr",
     "output_type": "stream",
     "text": [
      " 34%|████████████████████████▏                                              | 1706/5000 [15:01<57:30,  1.05s/it]"
     ]
    },
    {
     "name": "stdout",
     "output_type": "stream",
     "text": [
      "updating target network...\n"
     ]
    },
    {
     "name": "stderr",
     "output_type": "stream",
     "text": [
      " 35%|████████████████████████▉                                              | 1757/5000 [15:56<57:28,  1.06s/it]"
     ]
    },
    {
     "name": "stdout",
     "output_type": "stream",
     "text": [
      "updating target network...\n"
     ]
    },
    {
     "name": "stderr",
     "output_type": "stream",
     "text": [
      " 35%|█████████████████████████                                              | 1769/5000 [16:09<29:31,  1.82it/s]\n"
     ]
    },
    {
     "ename": "KeyboardInterrupt",
     "evalue": "",
     "output_type": "error",
     "traceback": [
      "\u001b[0;31m---------------------------------------------------------------------------\u001b[0m",
      "\u001b[0;31mKeyboardInterrupt\u001b[0m                         Traceback (most recent call last)",
      "\u001b[0;32m/tmp/ipykernel_3020/574855303.py\u001b[0m in \u001b[0;36m<module>\u001b[0;34m\u001b[0m\n\u001b[1;32m     29\u001b[0m         \u001b[0;32mif\u001b[0m \u001b[0magent\u001b[0m\u001b[0;34m.\u001b[0m\u001b[0msteps\u001b[0m\u001b[0;34m%\u001b[0m\u001b[0magent\u001b[0m\u001b[0;34m.\u001b[0m\u001b[0mtrain_step_count\u001b[0m\u001b[0;34m==\u001b[0m\u001b[0;36m0\u001b[0m \u001b[0;32mand\u001b[0m \u001b[0magent\u001b[0m\u001b[0;34m.\u001b[0m\u001b[0mER\u001b[0m\u001b[0;34m.\u001b[0m\u001b[0m__len__\u001b[0m\u001b[0;34m(\u001b[0m\u001b[0;34m)\u001b[0m\u001b[0;34m>\u001b[0m\u001b[0magent\u001b[0m\u001b[0;34m.\u001b[0m\u001b[0mbatch_size\u001b[0m\u001b[0;34m:\u001b[0m\u001b[0;34m\u001b[0m\u001b[0;34m\u001b[0m\u001b[0m\n\u001b[1;32m     30\u001b[0m             \u001b[0magent\u001b[0m\u001b[0;34m.\u001b[0m\u001b[0moptimizer\u001b[0m\u001b[0;34m.\u001b[0m\u001b[0mzero_grad\u001b[0m\u001b[0;34m(\u001b[0m\u001b[0;34m)\u001b[0m\u001b[0;34m\u001b[0m\u001b[0;34m\u001b[0m\u001b[0m\n\u001b[0;32m---> 31\u001b[0;31m             \u001b[0mloss\u001b[0m \u001b[0;34m=\u001b[0m \u001b[0moptimize\u001b[0m\u001b[0;34m(\u001b[0m\u001b[0magent\u001b[0m\u001b[0;34m)\u001b[0m\u001b[0;34m\u001b[0m\u001b[0;34m\u001b[0m\u001b[0m\n\u001b[0m\u001b[1;32m     32\u001b[0m             \u001b[0mloss\u001b[0m\u001b[0;34m.\u001b[0m\u001b[0mbackward\u001b[0m\u001b[0;34m(\u001b[0m\u001b[0;34m)\u001b[0m\u001b[0;34m\u001b[0m\u001b[0;34m\u001b[0m\u001b[0m\n\u001b[1;32m     33\u001b[0m             \u001b[0magent\u001b[0m\u001b[0;34m.\u001b[0m\u001b[0moptimizer\u001b[0m\u001b[0;34m.\u001b[0m\u001b[0mstep\u001b[0m\u001b[0;34m(\u001b[0m\u001b[0;34m)\u001b[0m\u001b[0;34m\u001b[0m\u001b[0;34m\u001b[0m\u001b[0m\n",
      "\u001b[0;32m/tmp/ipykernel_3020/3097694225.py\u001b[0m in \u001b[0;36moptimize\u001b[0;34m(agent)\u001b[0m\n\u001b[1;32m      1\u001b[0m \u001b[0;32mdef\u001b[0m \u001b[0moptimize\u001b[0m\u001b[0;34m(\u001b[0m\u001b[0magent\u001b[0m\u001b[0;34m)\u001b[0m\u001b[0;34m:\u001b[0m\u001b[0;34m\u001b[0m\u001b[0;34m\u001b[0m\u001b[0m\n\u001b[1;32m      2\u001b[0m \u001b[0;34m\u001b[0m\u001b[0m\n\u001b[0;32m----> 3\u001b[0;31m     \u001b[0midxs\u001b[0m\u001b[0;34m,\u001b[0m \u001b[0msample_transitions\u001b[0m\u001b[0;34m,\u001b[0m \u001b[0msampling_weights\u001b[0m \u001b[0;34m=\u001b[0m \u001b[0magent\u001b[0m\u001b[0;34m.\u001b[0m\u001b[0mER\u001b[0m\u001b[0;34m.\u001b[0m\u001b[0msample\u001b[0m\u001b[0;34m(\u001b[0m\u001b[0mbeta\u001b[0m\u001b[0;34m=\u001b[0m\u001b[0;36m1\u001b[0m\u001b[0;34m-\u001b[0m\u001b[0mnp\u001b[0m\u001b[0;34m.\u001b[0m\u001b[0mexp\u001b[0m\u001b[0;34m(\u001b[0m\u001b[0;34m-\u001b[0m\u001b[0magent\u001b[0m\u001b[0;34m.\u001b[0m\u001b[0mlr\u001b[0m\u001b[0;34m*\u001b[0m\u001b[0magent\u001b[0m\u001b[0;34m.\u001b[0m\u001b[0mepisode_count\u001b[0m\u001b[0;34m)\u001b[0m\u001b[0;34m)\u001b[0m\u001b[0;34m\u001b[0m\u001b[0;34m\u001b[0m\u001b[0m\n\u001b[0m\u001b[1;32m      4\u001b[0m \u001b[0;34m\u001b[0m\u001b[0m\n\u001b[1;32m      5\u001b[0m     \u001b[0;31m#get batch information\u001b[0m\u001b[0;34m\u001b[0m\u001b[0;34m\u001b[0m\u001b[0;34m\u001b[0m\u001b[0m\n",
      "\u001b[0;32m/tmp/ipykernel_3020/4264740849.py\u001b[0m in \u001b[0;36msample\u001b[0;34m(self, beta)\u001b[0m\n\u001b[1;32m     78\u001b[0m         \u001b[0;31m# use sampling scheme to determine which experiences to use for learning\u001b[0m\u001b[0;34m\u001b[0m\u001b[0;34m\u001b[0m\u001b[0;34m\u001b[0m\u001b[0m\n\u001b[1;32m     79\u001b[0m         \u001b[0mps\u001b[0m \u001b[0;34m=\u001b[0m \u001b[0mself\u001b[0m\u001b[0;34m.\u001b[0m\u001b[0m_buffer\u001b[0m\u001b[0;34m[\u001b[0m\u001b[0;34m:\u001b[0m\u001b[0mself\u001b[0m\u001b[0;34m.\u001b[0m\u001b[0m_buffer_length\u001b[0m\u001b[0;34m]\u001b[0m\u001b[0;34m[\u001b[0m\u001b[0;34m\"priority\"\u001b[0m\u001b[0;34m]\u001b[0m\u001b[0;34m\u001b[0m\u001b[0;34m\u001b[0m\u001b[0m\n\u001b[0;32m---> 80\u001b[0;31m         \u001b[0msampling_probs\u001b[0m \u001b[0;34m=\u001b[0m \u001b[0mps\u001b[0m\u001b[0;34m**\u001b[0m\u001b[0mself\u001b[0m\u001b[0;34m.\u001b[0m\u001b[0m_alpha\u001b[0m \u001b[0;34m/\u001b[0m \u001b[0mnp\u001b[0m\u001b[0;34m.\u001b[0m\u001b[0msum\u001b[0m\u001b[0;34m(\u001b[0m\u001b[0mps\u001b[0m\u001b[0;34m**\u001b[0m\u001b[0mself\u001b[0m\u001b[0;34m.\u001b[0m\u001b[0m_alpha\u001b[0m\u001b[0;34m)\u001b[0m\u001b[0;34m\u001b[0m\u001b[0;34m\u001b[0m\u001b[0m\n\u001b[0m\u001b[1;32m     81\u001b[0m         idxs = self._random_state.choice(np.arange(ps.size),\n\u001b[1;32m     82\u001b[0m                                          \u001b[0msize\u001b[0m\u001b[0;34m=\u001b[0m\u001b[0mself\u001b[0m\u001b[0;34m.\u001b[0m\u001b[0m_batch_size\u001b[0m\u001b[0;34m,\u001b[0m\u001b[0;34m\u001b[0m\u001b[0;34m\u001b[0m\u001b[0m\n",
      "\u001b[0;31mKeyboardInterrupt\u001b[0m: "
     ]
    }
   ],
   "source": [
    "agent = Agent()\n",
    "agent.QNet.train()\n",
    "losses = []\n",
    "cummulative_rewards = []\n",
    "\n",
    "for episode in tqdm(range(agent.num_episodes)):\n",
    "    \n",
    "    environment = Environment()\n",
    "    cummulative_reward = 0\n",
    "\n",
    "    while True:\n",
    "        \n",
    "        agent.episode_count+=1\n",
    "        \n",
    "        #observation\n",
    "        state = environment.get_state()\n",
    "        action = get_action(agent.QNet, state, agent.epsilon)\n",
    "        state_new, reward, terminated = environment.take_action(action)\n",
    "        #append to replay buffer\n",
    "        agent.ER.add(Transition(state, action, state_new, reward, terminated))\n",
    "\n",
    "        #update variables\n",
    "        cummulative_reward+=reward\n",
    "                \n",
    "        #increament step count\n",
    "        agent.steps+=1\n",
    "        \n",
    "        #train after every 'train_step_count' steps\n",
    "        if agent.steps%agent.train_step_count==0 and agent.ER.__len__()>agent.batch_size:\n",
    "            agent.optimizer.zero_grad()\n",
    "            loss = optimize(agent)\n",
    "            loss.backward()\n",
    "            agent.optimizer.step()\n",
    "            agent.epsilon=max(0, agent.epsilon-agent.eps_decay)\n",
    "            losses.append(loss.item())\n",
    "            \n",
    "        #copy weights to target network after every 'target_update_steps' updates\n",
    "        if agent.steps%agent.target_update_steps==0:\n",
    "            print(\"updating target network...\")\n",
    "            agent.TNet.load_state_dict(agent.QNet.state_dict())\n",
    "        \n",
    "        #break when episode is complete\n",
    "        if terminated:\n",
    "            break\n",
    "            \n",
    "    cummulative_rewards.append(cummulative_reward)"
   ]
  },
  {
   "cell_type": "code",
   "execution_count": 11,
   "id": "f3fdefcf-9bd8-46dd-af31-2aff5d128423",
   "metadata": {},
   "outputs": [
    {
     "data": {
      "image/png": "[encoded data removed]",
      "text/plain": [
       "<Figure size 432x288 with 1 Axes>"
      ]
     },
     "metadata": {
      "needs_background": "light"
     },
     "output_type": "display_data"
    }
   ],
   "source": [
    "import matplotlib.pyplot as plt\n",
    "plt.plot((np.convolve(losses, np.ones(100), 'valid') / 100), label='hubor loss')\n",
    "plt.legend()\n",
    "plt.show()"
   ]
  },
  {
   "cell_type": "code",
   "execution_count": 11,
   "id": "868dfd75-4c70-450a-b71e-5e8a1c7dfac2",
   "metadata": {},
   "outputs": [
    {
     "name": "stdout",
     "output_type": "stream",
     "text": [
      "NEW TEST\n",
      "State: 0.2584367516564082, Action: 1, Reward: -0.2584367516564082, New State: None\n",
      "NEW TEST\n",
      "State: 0.2584367516564082, Action: 1, Reward: -0.2584367516564082, New State: None\n",
      "NEW TEST\n",
      "State: 0.2584367516564082, Action: 1, Reward: -0.2584367516564082, New State: None\n"
     ]
    }
   ],
   "source": [
    "agent = Agent()\n",
    "\n",
    "agent.QNet.load_state_dict(torch.load('models/07-04-2022_21:42:39.pt'))\n",
    "\n",
    "environment = Environment()\n",
    "\n",
    "for test in range(3):\n",
    "    print(\"NEW TEST\")\n",
    "    while True:\n",
    "\n",
    "        #observation\n",
    "        state = environment.get_state()\n",
    "        action = get_action(agent.QNet, state, epsilon=0)\n",
    "        state_new, reward, terminated = environment.take_action(action)\n",
    "\n",
    "        print(\"State: {}, Action: {}, Reward: {}, New State: {}\".format(state[0], action, reward, state_new))\n",
    "        #break when episode is complete\n",
    "        if terminated:\n",
    "            break"
   ]
  },
  {
   "cell_type": "code",
   "execution_count": 13,
   "id": "56c1921a-43b8-4979-b939-4cf90e39dacb",
   "metadata": {},
   "outputs": [
    {
     "data": {
      "text/plain": [
       "<matplotlib.legend.Legend at 0x7f4816a29650>"
      ]
     },
     "execution_count": 13,
     "metadata": {},
     "output_type": "execute_result"
    },
    {
     "data": {
      "image/png": "[encoded data removed]",
      "text/plain": [
       "<Figure size 432x288 with 1 Axes>"
      ]
     },
     "metadata": {
      "needs_background": "light"
     },
     "output_type": "display_data"
    }
   ],
   "source": [
    "import matplotlib.pyplot as plt\n",
    "plt.scatter(x=np.arange(0,1,0.01), y=[agent.QNet(torch.tensor([x]).float())[0].item() for x in np.arange(0,1,0.01)], label='hold')\n",
    "plt.scatter(x=np.arange(0,1,0.01), y=[agent.QNet(torch.tensor([x]).float())[1].item() for x in np.arange(0,1,0.01)], label='repair')\n",
    "plt.xlabel('health indicator', fontsize=18)\n",
    "plt.ylabel('expected reward', fontsize=16)\n",
    "plt.legend()"
   ]
  },
  {
   "cell_type": "code",
   "execution_count": 20,
   "id": "bdc7e81e-d2c0-4197-89a6-b69cd7aef7b7",
   "metadata": {},
   "outputs": [
    {
     "data": {
      "image/png": "[encoded data removed]",
      "text/plain": [
       "<Figure size 432x288 with 1 Axes>"
      ]
     },
     "metadata": {
      "needs_background": "light"
     },
     "output_type": "display_data"
    }
   ],
   "source": [
    "import matplotlib.pyplot as plt\n",
    "plt.plot([0.2-(5e-7*x) for x in range(500000)])\n",
    "plt.show()"
   ]
  },
  {
   "cell_type": "code",
   "execution_count": 34,
   "id": "f6e766a5-bf60-4eca-a48c-a839416c0b98",
   "metadata": {},
   "outputs": [],
   "source": [
    "from datetime import date, time"
   ]
  },
  {
   "cell_type": "code",
   "execution_count": 35,
   "id": "21fd3fd9-9c08-484a-91e9-d83d39a5b1e4",
   "metadata": {},
   "outputs": [
    {
     "data": {
      "text/plain": [
       "'04/07/22'"
      ]
     },
     "execution_count": 35,
     "metadata": {},
     "output_type": "execute_result"
    }
   ],
   "source": [
    "date.today().strftime(\"%m/%d/%y\")"
   ]
  },
  {
   "cell_type": "code",
   "execution_count": null,
   "id": "e8724d1c-1691-457b-96f8-ce064b973200",
   "metadata": {},
   "outputs": [],
   "source": []
  }
 ],
 "metadata": {
  "kernelspec": {
   "display_name": "env-rl",
   "language": "python",
   "name": "env-rl"
  },
  "language_info": {
   "codemirror_mode": {
    "name": "ipython",
    "version": 3
   },
   "file_extension": ".py",
   "mimetype": "text/x-python",
   "name": "python",
   "nbconvert_exporter": "python",
   "pygments_lexer": "ipython3",
   "version": "3.7.10"
  }
 },
 "nbformat": 4,
 "nbformat_minor": 5
}
