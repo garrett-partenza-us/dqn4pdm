{
 "cells": [
  {
   "cell_type": "code",
   "execution_count": 1,
   "id": "b2213e38-ec60-4ece-919b-6d85621a88c8",
   "metadata": {},
   "outputs": [
    {
     "name": "stderr",
     "output_type": "stream",
     "text": [
      "/home/ec2-user/.local/lib/python3.7/site-packages/tqdm/auto.py:22: TqdmWarning: IProgress not found. Please update jupyter and ipywidgets. See https://ipywidgets.readthedocs.io/en/stable/user_install.html\n",
      "  from .autonotebook import tqdm as notebook_tqdm\n"
     ]
    }
   ],
   "source": [
    "import torch\n",
    "import torch.nn as nn\n",
    "import torch.nn.functional as F\n",
    "from torch.autograd import Variable\n",
    "import pandas as pd\n",
    "import numpy as np\n",
    "import random\n",
    "import copy\n",
    "from tqdm import tqdm\n",
    "from collections import deque"
   ]
  },
  {
   "cell_type": "code",
   "execution_count": 2,
   "id": "65f44d1c-ab6e-4208-9fbe-0ef59bdfa83c",
   "metadata": {},
   "outputs": [
    {
     "data": {
      "text/plain": [
       "False"
      ]
     },
     "execution_count": 2,
     "metadata": {},
     "output_type": "execute_result"
    }
   ],
   "source": [
    "torch.cuda.is_available()"
   ]
  },
  {
   "cell_type": "code",
   "execution_count": 3,
   "id": "80887762-bb54-44c6-9269-a012d740fca0",
   "metadata": {},
   "outputs": [],
   "source": [
    "#environment class\n",
    "class Environment():\n",
    "    \n",
    "    #initialize dataset, a random trajectory, and current cycle\n",
    "    def __init__(self):\n",
    "        self.dataset = pd.read_csv('train.csv')\n",
    "        self.episode = self.get_trajectory(np.random.randint(low=1, high=79, size=1))\n",
    "        self.cycle = 0\n",
    "        \n",
    "    #get random trajectory\n",
    "    def get_trajectory(self, engine_id):\n",
    "        return self.dataset[self.dataset.engine_id==engine_id.item()].health_indicator.to_numpy()\n",
    "    \n",
    "    #reset environment    \n",
    "    def reset(self):\n",
    "        self.cycle = 0\n",
    "        self.episode = self.get_trajectory(np.random.randint(low=0, high=79, size=1))\n",
    "        \n",
    "    #return current state\n",
    "    def get_state(self):\n",
    "        return self.episode[self.cycle]\n",
    "    \n",
    "    #take action\n",
    "    def take_action(self, action):\n",
    "        if action == 0:\n",
    "            #failure occurs\n",
    "            if self.cycle+1 == self.episode.size:\n",
    "                res = (None, -10, True)\n",
    "            #continued operation, return 1 and continue episode\n",
    "            else:\n",
    "                res = (self.episode[self.cycle+1], self.episode[self.cycle], False)\n",
    "            #move to next state\n",
    "            self.cycle+=1\n",
    "        elif action == 1:\n",
    "            res = (None, -self.episode[self.cycle], True)\n",
    "        return res"
   ]
  },
  {
   "cell_type": "code",
   "execution_count": 4,
   "id": "e44f1f6e-4c01-4433-9f03-be2e97c64374",
   "metadata": {},
   "outputs": [],
   "source": [
    "class Transition():\n",
    "    \n",
    "    def __init__(self, state, action, state_new, reward, term ):\n",
    "        self.state = state\n",
    "        self.action = action\n",
    "        self.state_new = state_new\n",
    "        self.reward = reward\n",
    "        self.term = term\n",
    "        \n",
    "class ReplayMemory():\n",
    "\n",
    "    def __init__(self, capacity):\n",
    "        self.memory = deque([], maxlen=capacity)\n",
    "\n",
    "    def push(self, *args):\n",
    "        self.memory.append(Transition(*args))\n",
    "\n",
    "    def sample(self, batch_size):\n",
    "        return random.sample(self.memory, batch_size)\n",
    "\n",
    "    def __len__(self):\n",
    "        return len(self.memory)"
   ]
  },
  {
   "cell_type": "code",
   "execution_count": 5,
   "id": "09df1af8-1a6b-40d3-a71d-8d71a6693f54",
   "metadata": {},
   "outputs": [],
   "source": [
    "#dqn model clas \n",
    "class DQN(nn.Module):\n",
    "    def __init__(self):\n",
    "        super(DQN, self).__init__()\n",
    "        self.lin1 = nn.Linear(1,10)\n",
    "        self.lin2 = nn.Linear(10,2)\n",
    "\n",
    "    def forward(self, x):\n",
    "        x = self.lin1(x)\n",
    "        x = F.relu(x)\n",
    "        x = self.lin2(x)\n",
    "        return x"
   ]
  },
  {
   "cell_type": "code",
   "execution_count": 6,
   "id": "a134ff20-16bc-42f3-a51f-03009d97257a",
   "metadata": {},
   "outputs": [],
   "source": [
    "def get_action(net, state, epsilon):\n",
    "    with torch.no_grad():\n",
    "        greedy = np.random.choice([True, False], p=[1-epsilon, epsilon])\n",
    "        if greedy:\n",
    "            state = torch.tensor([state], dtype=torch.float32)\n",
    "            q_values = net(state)\n",
    "            action = torch.argmax(q_values, dim=0)\n",
    "        else:\n",
    "            action = random.choice([0,1])\n",
    "        return action"
   ]
  },
  {
   "cell_type": "code",
   "execution_count": 7,
   "id": "0a9c34e8-82c4-47a7-bf1b-55155650df1a",
   "metadata": {},
   "outputs": [],
   "source": [
    "class Agent():\n",
    "    \n",
    "    def __init__(self):\n",
    "        \n",
    "        #hyperparameters\n",
    "        self.exp_replay_size = 100000\n",
    "        self.gamma = 0.99\n",
    "        self.epsilon = 0.2\n",
    "        self.target_update_steps = 10000\n",
    "        self.num_episodes = 5000\n",
    "        self.batch_size = 64\n",
    "        self.train_step_count = 4\n",
    "        self.steps = 0\n",
    "        self.lr = 0.001\n",
    "        self.eps_decay = 5e-9\n",
    "        self.loss_func = nn.HuberLoss()\n",
    "        \n",
    "        #networks\n",
    "        self.QNet = DQN()\n",
    "        self.TNet = DQN()\n",
    "        self.optimizer = torch.optim.Adam(self.QNet.parameters(), lr=self.lr)\n",
    "        \n",
    "        #replay buffer\n",
    "        self.ER = ReplayMemory(self.exp_replay_size)"
   ]
  },
  {
   "cell_type": "code",
   "execution_count": 8,
   "id": "c0596b85-4d36-4a9d-a868-9c3c3a03f6e8",
   "metadata": {},
   "outputs": [],
   "source": [
    "def optimize(agent):\n",
    "    \n",
    "    sample_transitions = agent.ER.sample(agent.batch_size)\n",
    "            \n",
    "    #get batch information\n",
    "    state_batch = [transition.state for transition in sample_transitions]\n",
    "    action_batch = [transition.state for transition in sample_transitions]\n",
    "    reward_batch = [transition.reward for transition in sample_transitions]\n",
    "    state_new = [transition.state_new for transition in sample_transitions]\n",
    "    term_batch = [transition.term for transition in sample_transitions]\n",
    "\n",
    "    state_tensor = torch.tensor(state_batch, dtype=torch.float32, requires_grad=True)\n",
    "    state_tensor = state_tensor.reshape(agent.batch_size, -1)\n",
    "    \n",
    "    policy_preds = agent.QNet(state_tensor)\n",
    "    policy_values = torch.stack([qvalues[idx] for qvalues, idx in zip(policy_preds, map(int, action_batch))])\n",
    "    \n",
    "    state_new_tensor = torch.tensor(state_batch, dtype=torch.float32, requires_grad=True)\n",
    "    state_new_tensor = torch.nan_to_num(state_new_tensor, nan=0.0)\n",
    "    state_new_tensor = state_new_tensor.reshape(agent.batch_size, -1)\n",
    "    target_values = agent.TNet(state_new_tensor)\n",
    "    target_values = torch.max(target_values, dim=1).values\n",
    "    \n",
    "    for idx, is_term in enumerate(term_batch):\n",
    "        target_values[idx] = 0.0 if is_term else target_values[idx]\n",
    "        \n",
    "    target_values = agent.gamma * target_values + torch.tensor(reward_batch, dtype=torch.float32, requires_grad=True)\n",
    "    \n",
    "    return agent.loss_func(policy_values, target_values)"
   ]
  },
  {
   "cell_type": "code",
   "execution_count": 9,
   "id": "5a949dbd-e073-4cfd-ac74-8d9a5c995d51",
   "metadata": {},
   "outputs": [
    {
     "name": "stderr",
     "output_type": "stream",
     "text": [
      "100%|███████████████████████████████████████████████████████████████████████| 5000/5000 [05:22<00:00, 15.50it/s]\n"
     ]
    }
   ],
   "source": [
    "agent = Agent()\n",
    "agent.QNet.train()\n",
    "losses = []\n",
    "cummulative_rewards = []\n",
    "\n",
    "for episode in tqdm(range(agent.num_episodes)):\n",
    "    \n",
    "    environment = Environment()\n",
    "    cummulative_reward = 0\n",
    "\n",
    "    while True:\n",
    "        \n",
    "        #observation\n",
    "        state = environment.get_state()\n",
    "        action = get_action(agent.QNet, state, agent.epsilon)\n",
    "        state_new, reward, terminated = environment.take_action(action)\n",
    "        #append to replay buffer\n",
    "        agent.ER.push(state, action, state_new, reward, terminated)\n",
    "\n",
    "        #update variables\n",
    "        cummulative_reward+=reward\n",
    "                \n",
    "        #increament step count\n",
    "        agent.steps+=1\n",
    "        \n",
    "        #train after every 'train_step_count' steps\n",
    "        if agent.steps%agent.train_step_count==0 and agent.ER.__len__()>agent.batch_size:\n",
    "            agent.optimizer.zero_grad()\n",
    "            loss = optimize(agent)\n",
    "            loss.backward()\n",
    "            agent.optimizer.step()\n",
    "            agent.epsilon=max(0, agent.epsilon-agent.eps_decay)\n",
    "            losses.append(loss.item())\n",
    "            \n",
    "        #copy weights to target network after every 'target_update_steps' updates\n",
    "        if agent.steps%agent.target_update_steps==0:\n",
    "            print(\"updating target network...\")\n",
    "            print(max(0, agent.epsilon-agent.eps_decay))\n",
    "            agent.TNet.load_state_dict(agent.QNet.state_dict())\n",
    "        \n",
    "        #break when episode is complete\n",
    "        if terminated:\n",
    "            break\n",
    "            \n",
    "    cummulative_rewards.append(cummulative_reward)"
   ]
  },
  {
   "cell_type": "code",
   "execution_count": 10,
   "id": "f3fdefcf-9bd8-46dd-af31-2aff5d128423",
   "metadata": {},
   "outputs": [
    {
     "data": {
      "image/png": "[encoded data removed]",
      "text/plain": [
       "<Figure size 432x288 with 1 Axes>"
      ]
     },
     "metadata": {
      "needs_background": "light"
     },
     "output_type": "display_data"
    }
   ],
   "source": [
    "import matplotlib.pyplot as plt\n",
    "plt.plot((np.convolve(losses, np.ones(100), 'valid') / 100), label='hubor loss')\n",
    "plt.legend()\n",
    "plt.show()"
   ]
  },
  {
   "cell_type": "code",
   "execution_count": 11,
   "id": "868dfd75-4c70-450a-b71e-5e8a1c7dfac2",
   "metadata": {},
   "outputs": [
    {
     "name": "stdout",
     "output_type": "stream",
     "text": [
      "State: 0.2070642444772781, Action: 1, Reward: -0.2070642444772781, New State: None, Cummulative Reward: -0.2070642444772781\n"
     ]
    }
   ],
   "source": [
    "agent.QNet.eval()\n",
    "environment = Environment()\n",
    "cummulative_rewards = []\n",
    "cummulative_reward = 0\n",
    "while True:\n",
    "\n",
    "    #observation\n",
    "    state = environment.get_state()\n",
    "    action = get_action(agent.QNet, state, agent.epsilon)\n",
    "    state_new, reward, terminated = environment.take_action(action)\n",
    "\n",
    "    #update variables\n",
    "    cummulative_reward+=reward\n",
    "    \n",
    "    print(\"State: {}, Action: {}, Reward: {}, New State: {}, Cummulative Reward: {}\".format(state, action, reward, state_new, cummulative_reward))\n",
    "    #break when episode is complete\n",
    "    if terminated:\n",
    "        break\n",
    "\n",
    "    cummulative_rewards.append(cummulative_reward)"
   ]
  },
  {
   "cell_type": "code",
   "execution_count": 12,
   "id": "f2ace61d-cbe8-4041-be86-767c10b32989",
   "metadata": {},
   "outputs": [
    {
     "data": {
      "image/png": "[encoded data removed]",
      "text/plain": [
       "<Figure size 432x288 with 1 Axes>"
      ]
     },
     "metadata": {
      "needs_background": "light"
     },
     "output_type": "display_data"
    }
   ],
   "source": [
    "with torch.no_grad():\n",
    "    plt.scatter(np.linspace(0,1,100), agent.QNet(torch.tensor(np.linspace(0,1,100), dtype=torch.float32).reshape(100,-1)).numpy()[:,0], label='hold')\n",
    "    plt.scatter(np.linspace(0,1,100), agent.QNet(torch.tensor(np.linspace(0,1,100), dtype=torch.float32).reshape(100,-1)).numpy()[:,1], label='replace')\n",
    "    plt.legend()"
   ]
  },
  {
   "cell_type": "code",
   "execution_count": null,
   "id": "0a9f3bb7-c882-4069-b689-e33ff877e9f3",
   "metadata": {},
   "outputs": [],
   "source": []
  }
 ],
 "metadata": {
  "kernelspec": {
   "display_name": "env-rl",
   "language": "python",
   "name": "env-rl"
  },
  "language_info": {
   "codemirror_mode": {
    "name": "ipython",
    "version": 3
   },
   "file_extension": ".py",
   "mimetype": "text/x-python",
   "name": "python",
   "nbconvert_exporter": "python",
   "pygments_lexer": "ipython3",
   "version": "3.7.10"
  }
 },
 "nbformat": 4,
 "nbformat_minor": 5
}
